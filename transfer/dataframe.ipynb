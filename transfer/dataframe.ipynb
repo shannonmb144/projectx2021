{
 "cells": [
  {
   "cell_type": "code",
   "execution_count": 17,
   "metadata": {},
   "outputs": [],
   "source": [
    "import pandas\n",
    "import numpy\n",
    "import os"
   ]
  },
  {
   "cell_type": "code",
   "execution_count": 28,
   "metadata": {},
   "outputs": [],
   "source": [
    "date = [] \n",
    "for i in range(2003,2018):\n",
    "    for j in range(1,13):\n",
    "        date.append(str(i)+'-'+str(j))"
   ]
  },
  {
   "cell_type": "code",
   "execution_count": 33,
   "metadata": {},
   "outputs": [],
   "source": [
    "directory = './'\n",
    "df=pandas.DataFrame(index=date)\n",
    "for filename in os.listdir(directory):\n",
    "    f = os.path.join(directory, filename)\n",
    "    # checking if it is a file\n",
    "    if os.path.isfile(f) and f[-3:]==\"csv\":\n",
    "        date=[]\n",
    "        data=[]\n",
    "        c=0\n",
    "        for i in open(f):\n",
    "            if c==0:\n",
    "                c+=1\n",
    "                continue\n",
    "            l=i.strip().split(',')\n",
    "            for i in range(1,len(l)):\n",
    "                d = str(l[0])+'-'+str(i)\n",
    "                date.append(d)\n",
    "                data.append(l[i])        \n",
    "        df[f[2:-4]] = data\n",
    "\n",
    "        "
   ]
  },
  {
   "cell_type": "code",
   "execution_count": 32,
   "metadata": {},
   "outputs": [],
   "source": [
    "df.to_csv('bangkok_dengue.csv')"
   ]
  }
 ],
 "metadata": {
  "interpreter": {
   "hash": "5b7c22e2b33f4cf9bf7a8c748adbd19bda92a84488b3d78782ef74805b044014"
  },
  "kernelspec": {
   "display_name": "Python 3.9.4 64-bit",
   "language": "python",
   "name": "python3"
  },
  "language_info": {
   "codemirror_mode": {
    "name": "ipython",
    "version": 3
   },
   "file_extension": ".py",
   "mimetype": "text/x-python",
   "name": "python",
   "nbconvert_exporter": "python",
   "pygments_lexer": "ipython3",
   "version": "3.9.4"
  },
  "orig_nbformat": 4
 },
 "nbformat": 4,
 "nbformat_minor": 2
}
