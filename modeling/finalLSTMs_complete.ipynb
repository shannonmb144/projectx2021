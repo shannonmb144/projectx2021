{
  "nbformat": 4,
  "nbformat_minor": 0,
  "metadata": {
    "colab": {
      "name": "Copy of finalLSTMs.ipynb",
      "provenance": []
    },
    "kernelspec": {
      "name": "python3",
      "display_name": "Python 3"
    },
    "language_info": {
      "name": "python"
    }
  },
  "cells": [
    {
      "cell_type": "code",
      "execution_count": null,
      "metadata": {
        "colab": {
          "base_uri": "https://localhost:8080/"
        },
        "id": "Cgh8QkCnELYY",
        "outputId": "c6a16d07-7088-4c1f-ea2f-8a3bd6c8980b"
      },
      "outputs": [
        {
          "output_type": "stream",
          "name": "stdout",
          "text": [
            "Drive already mounted at /content/drive; to attempt to forcibly remount, call drive.mount(\"/content/drive\", force_remount=True).\n",
            "[Errno 2] No such file or directory: 'drive/Shared drives/ProjectX 2021/data'\n",
            "/content/drive/Shared drives/ProjectX 2021/data\n",
            " All_Malaria_Weather_TS.csv\t  odisha_weather.csv\n",
            " All_Malaria_Weather_TS.gsheet\t  odisha_weather.gsheet\n",
            " All_Malaria_Weather_TS_lit.csv  'PROCESSED ODISHA MALARIA DATA'\n",
            " bangkok_dengue\t\t\t 'RAW ODISHA MALARIA DATA'\n",
            " dataframe.ipynb\t\t  sarima_reg.ipynb\n",
            " drive\t\t\t\t 'Time Series Extraction.ipynb'\n"
          ]
        }
      ],
      "source": [
        "from google.colab import drive\n",
        "drive.mount('/content/drive')\n",
        "\n",
        "%cd drive/Shared \\drives/ProjectX \\2021/data\n",
        "!ls"
      ]
    },
    {
      "cell_type": "code",
      "source": [
        "import tensorflow as tf\n",
        "from tensorflow.keras.layers.experimental import preprocessing\n",
        "import pandas as pd\n",
        "\n",
        "from keras.models import Sequential\n",
        "from keras.layers import Dense\n",
        "from keras.layers import Dropout\n",
        "from keras.layers import LSTM\n",
        "from keras.layers import RepeatVector\n",
        "from keras.layers import Embedding\n",
        "from keras.layers import Masking\n",
        "from keras.layers import SimpleRNN\n",
        "from keras.layers import Activation\n",
        "import keras.layers as kl\n",
        "from keras.callbacks import ModelCheckpoint\n",
        "from keras.utils import np_utils\n",
        "\n",
        "import numpy as np\n",
        "import os\n",
        "import time\n",
        "import sys\n",
        "import sklearn as sk\n",
        "import matplotlib.pyplot as plt"
      ],
      "metadata": {
        "id": "fev814l9Egfz"
      },
      "execution_count": null,
      "outputs": []
    },
    {
      "cell_type": "code",
      "source": [
        "weather_df = pd.read_csv(\"All_Malaria_Weather_TS.csv\", index_col = 0)"
      ],
      "metadata": {
        "id": "9COs_L6uFg0L"
      },
      "execution_count": null,
      "outputs": []
    },
    {
      "cell_type": "code",
      "source": [
        "weather_df.head()"
      ],
      "metadata": {
        "colab": {
          "base_uri": "https://localhost:8080/",
          "height": 206
        },
        "id": "wOQrpMM-Fw1m",
        "outputId": "884ec941-4419-4c93-90b0-5226ba6b2888"
      },
      "execution_count": null,
      "outputs": [
        {
          "output_type": "execute_result",
          "data": {
            "text/html": [
              "\n",
              "  <div id=\"df-abb07866-0735-456a-99c2-40be4d3df4db\">\n",
              "    <div class=\"colab-df-container\">\n",
              "      <div>\n",
              "<style scoped>\n",
              "    .dataframe tbody tr th:only-of-type {\n",
              "        vertical-align: middle;\n",
              "    }\n",
              "\n",
              "    .dataframe tbody tr th {\n",
              "        vertical-align: top;\n",
              "    }\n",
              "\n",
              "    .dataframe thead th {\n",
              "        text-align: right;\n",
              "    }\n",
              "</style>\n",
              "<table border=\"1\" class=\"dataframe\">\n",
              "  <thead>\n",
              "    <tr style=\"text-align: right;\">\n",
              "      <th></th>\n",
              "      <th>Year</th>\n",
              "      <th>Month</th>\n",
              "      <th>Region</th>\n",
              "      <th>Min_Temp</th>\n",
              "      <th>Max_Temp</th>\n",
              "      <th>Precipitation</th>\n",
              "      <th>Malaria_Cases</th>\n",
              "    </tr>\n",
              "  </thead>\n",
              "  <tbody>\n",
              "    <tr>\n",
              "      <th>0</th>\n",
              "      <td>2003</td>\n",
              "      <td>1</td>\n",
              "      <td>Angul</td>\n",
              "      <td>13.6</td>\n",
              "      <td>27.1</td>\n",
              "      <td>2</td>\n",
              "      <td>805.0</td>\n",
              "    </tr>\n",
              "    <tr>\n",
              "      <th>1</th>\n",
              "      <td>2003</td>\n",
              "      <td>2</td>\n",
              "      <td>Angul</td>\n",
              "      <td>17.5</td>\n",
              "      <td>31.0</td>\n",
              "      <td>27</td>\n",
              "      <td>807.0</td>\n",
              "    </tr>\n",
              "    <tr>\n",
              "      <th>2</th>\n",
              "      <td>2003</td>\n",
              "      <td>3</td>\n",
              "      <td>Angul</td>\n",
              "      <td>20.6</td>\n",
              "      <td>34.9</td>\n",
              "      <td>47</td>\n",
              "      <td>1057.0</td>\n",
              "    </tr>\n",
              "    <tr>\n",
              "      <th>3</th>\n",
              "      <td>2003</td>\n",
              "      <td>4</td>\n",
              "      <td>Angul</td>\n",
              "      <td>26.3</td>\n",
              "      <td>40.0</td>\n",
              "      <td>6</td>\n",
              "      <td>1029.0</td>\n",
              "    </tr>\n",
              "    <tr>\n",
              "      <th>4</th>\n",
              "      <td>2003</td>\n",
              "      <td>5</td>\n",
              "      <td>Angul</td>\n",
              "      <td>28.5</td>\n",
              "      <td>41.4</td>\n",
              "      <td>14</td>\n",
              "      <td>707.0</td>\n",
              "    </tr>\n",
              "  </tbody>\n",
              "</table>\n",
              "</div>\n",
              "      <button class=\"colab-df-convert\" onclick=\"convertToInteractive('df-abb07866-0735-456a-99c2-40be4d3df4db')\"\n",
              "              title=\"Convert this dataframe to an interactive table.\"\n",
              "              style=\"display:none;\">\n",
              "        \n",
              "  <svg xmlns=\"http://www.w3.org/2000/svg\" height=\"24px\"viewBox=\"0 0 24 24\"\n",
              "       width=\"24px\">\n",
              "    <path d=\"M0 0h24v24H0V0z\" fill=\"none\"/>\n",
              "    <path d=\"M18.56 5.44l.94 2.06.94-2.06 2.06-.94-2.06-.94-.94-2.06-.94 2.06-2.06.94zm-11 1L8.5 8.5l.94-2.06 2.06-.94-2.06-.94L8.5 2.5l-.94 2.06-2.06.94zm10 10l.94 2.06.94-2.06 2.06-.94-2.06-.94-.94-2.06-.94 2.06-2.06.94z\"/><path d=\"M17.41 7.96l-1.37-1.37c-.4-.4-.92-.59-1.43-.59-.52 0-1.04.2-1.43.59L10.3 9.45l-7.72 7.72c-.78.78-.78 2.05 0 2.83L4 21.41c.39.39.9.59 1.41.59.51 0 1.02-.2 1.41-.59l7.78-7.78 2.81-2.81c.8-.78.8-2.07 0-2.86zM5.41 20L4 18.59l7.72-7.72 1.47 1.35L5.41 20z\"/>\n",
              "  </svg>\n",
              "      </button>\n",
              "      \n",
              "  <style>\n",
              "    .colab-df-container {\n",
              "      display:flex;\n",
              "      flex-wrap:wrap;\n",
              "      gap: 12px;\n",
              "    }\n",
              "\n",
              "    .colab-df-convert {\n",
              "      background-color: #E8F0FE;\n",
              "      border: none;\n",
              "      border-radius: 50%;\n",
              "      cursor: pointer;\n",
              "      display: none;\n",
              "      fill: #1967D2;\n",
              "      height: 32px;\n",
              "      padding: 0 0 0 0;\n",
              "      width: 32px;\n",
              "    }\n",
              "\n",
              "    .colab-df-convert:hover {\n",
              "      background-color: #E2EBFA;\n",
              "      box-shadow: 0px 1px 2px rgba(60, 64, 67, 0.3), 0px 1px 3px 1px rgba(60, 64, 67, 0.15);\n",
              "      fill: #174EA6;\n",
              "    }\n",
              "\n",
              "    [theme=dark] .colab-df-convert {\n",
              "      background-color: #3B4455;\n",
              "      fill: #D2E3FC;\n",
              "    }\n",
              "\n",
              "    [theme=dark] .colab-df-convert:hover {\n",
              "      background-color: #434B5C;\n",
              "      box-shadow: 0px 1px 3px 1px rgba(0, 0, 0, 0.15);\n",
              "      filter: drop-shadow(0px 1px 2px rgba(0, 0, 0, 0.3));\n",
              "      fill: #FFFFFF;\n",
              "    }\n",
              "  </style>\n",
              "\n",
              "      <script>\n",
              "        const buttonEl =\n",
              "          document.querySelector('#df-abb07866-0735-456a-99c2-40be4d3df4db button.colab-df-convert');\n",
              "        buttonEl.style.display =\n",
              "          google.colab.kernel.accessAllowed ? 'block' : 'none';\n",
              "\n",
              "        async function convertToInteractive(key) {\n",
              "          const element = document.querySelector('#df-abb07866-0735-456a-99c2-40be4d3df4db');\n",
              "          const dataTable =\n",
              "            await google.colab.kernel.invokeFunction('convertToInteractive',\n",
              "                                                     [key], {});\n",
              "          if (!dataTable) return;\n",
              "\n",
              "          const docLinkHtml = 'Like what you see? Visit the ' +\n",
              "            '<a target=\"_blank\" href=https://colab.research.google.com/notebooks/data_table.ipynb>data table notebook</a>'\n",
              "            + ' to learn more about interactive tables.';\n",
              "          element.innerHTML = '';\n",
              "          dataTable['output_type'] = 'display_data';\n",
              "          await google.colab.output.renderOutput(dataTable, element);\n",
              "          const docLink = document.createElement('div');\n",
              "          docLink.innerHTML = docLinkHtml;\n",
              "          element.appendChild(docLink);\n",
              "        }\n",
              "      </script>\n",
              "    </div>\n",
              "  </div>\n",
              "  "
            ],
            "text/plain": [
              "   Year  Month Region  Min_Temp  Max_Temp  Precipitation  Malaria_Cases\n",
              "0  2003      1  Angul      13.6      27.1              2          805.0\n",
              "1  2003      2  Angul      17.5      31.0             27          807.0\n",
              "2  2003      3  Angul      20.6      34.9             47         1057.0\n",
              "3  2003      4  Angul      26.3      40.0              6         1029.0\n",
              "4  2003      5  Angul      28.5      41.4             14          707.0"
            ]
          },
          "metadata": {},
          "execution_count": 57
        }
      ]
    },
    {
      "cell_type": "code",
      "source": [
        "weather_df.shape"
      ],
      "metadata": {
        "colab": {
          "base_uri": "https://localhost:8080/"
        },
        "id": "QI39EUGBKdgw",
        "outputId": "b346a558-c539-4d30-990e-c5554475e840"
      },
      "execution_count": null,
      "outputs": [
        {
          "output_type": "execute_result",
          "data": {
            "text/plain": [
              "(3960, 7)"
            ]
          },
          "metadata": {},
          "execution_count": 58
        }
      ]
    },
    {
      "cell_type": "code",
      "source": [
        "cases = weather_df[\"Malaria_Cases\"]"
      ],
      "metadata": {
        "id": "_EWinCjAF7XO"
      },
      "execution_count": null,
      "outputs": []
    },
    {
      "cell_type": "code",
      "source": [
        "weather = weather_df.drop(columns = [\"Malaria_Cases\", \"Region\"])"
      ],
      "metadata": {
        "id": "UAWbE5_FNLOI"
      },
      "execution_count": null,
      "outputs": []
    },
    {
      "cell_type": "code",
      "source": [
        "from sklearn.model_selection import train_test_split\n",
        "x_train, x_test, y_train, y_test = train_test_split(weather, cases, test_size=.2, shuffle=False)\n",
        "\n",
        "#sk.train_test_split(values, test_size=.2, shuffle=False)"
      ],
      "metadata": {
        "id": "8do1K-LmHQDO"
      },
      "execution_count": null,
      "outputs": []
    },
    {
      "cell_type": "code",
      "source": [
        "print(x_train.shape)\n",
        "print(y_train.shape)\n",
        "print(x_test.shape)\n",
        "print(y_test.shape)"
      ],
      "metadata": {
        "colab": {
          "base_uri": "https://localhost:8080/"
        },
        "id": "DKGDiA37PV1G",
        "outputId": "4c25a2d5-82ec-4c6c-fe64-ca75f70b907e"
      },
      "execution_count": null,
      "outputs": [
        {
          "output_type": "stream",
          "name": "stdout",
          "text": [
            "(3168, 5)\n",
            "(3168,)\n",
            "(792, 5)\n",
            "(792,)\n"
          ]
        }
      ]
    },
    {
      "cell_type": "code",
      "source": [
        "x_train2 = tf.expand_dims(x_train, axis=2)\n",
        "x_train22 = np.array(x_train2)\n",
        "print(len(x_train2))\n",
        "print(x_train22.shape)\n",
        "y_train2 = tf.expand_dims(y_train, axis=1)\n",
        "y_train22 = np.array(y_train2)\n",
        "print(len(y_train2))\n",
        "print(y_train22.shape)\n"
      ],
      "metadata": {
        "colab": {
          "base_uri": "https://localhost:8080/"
        },
        "id": "088lhBi0Yrbo",
        "outputId": "59009536-9bc5-47c6-b928-d50b13ea7396"
      },
      "execution_count": null,
      "outputs": [
        {
          "output_type": "stream",
          "name": "stdout",
          "text": [
            "3168\n",
            "(3168, 5, 1)\n",
            "792\n",
            "(792, 5, 1)\n",
            "3168\n",
            "(3168, 1)\n",
            "3168\n",
            "(3168, 1, 1)\n",
            "(1, 3168, 5)\n",
            "(1, 3168, 1)\n",
            "(1, 3168)\n"
          ]
        }
      ]
    },
    {
      "cell_type": "code",
      "source": [
        "x_train_np = np.array(x_train)\n",
        "print(len(x_train))\n",
        "print(x_train_np.shape)\n",
        "\n",
        "y_train_np = np.array(y_train)\n",
        "print(len(y_train))\n",
        "print(y_train_np.shape)"
      ],
      "metadata": {
        "colab": {
          "base_uri": "https://localhost:8080/"
        },
        "id": "8-gfxsc2FXQP",
        "outputId": "0f476b09-06dd-499e-caa0-1c556a6bda25"
      },
      "execution_count": null,
      "outputs": [
        {
          "output_type": "stream",
          "name": "stdout",
          "text": [
            "3168\n",
            "(3168, 5)\n",
            "3168\n",
            "(3168,)\n"
          ]
        }
      ]
    },
    {
      "cell_type": "code",
      "source": [
        "from keras.metrics import FalseNegatives\n",
        "model = Sequential()\n",
        "\n",
        "model.add(LSTM(units = 1000, input_shape = (1,5), return_sequences=True))\n",
        "model.add(LSTM(units = 1))\n",
        "\n",
        "model.summary()\n",
        "model.compile(loss='MSE', optimizer='adam', metrics=['mean_absolute_error', 'mse'])\n",
        "\n"
      ],
      "metadata": {
        "colab": {
          "base_uri": "https://localhost:8080/"
        },
        "id": "XQEK2mEgHtvA",
        "outputId": "e643b61e-cfde-42f2-b338-eba53e81d169"
      },
      "execution_count": null,
      "outputs": [
        {
          "output_type": "stream",
          "name": "stdout",
          "text": [
            "Model: \"sequential_16\"\n",
            "_________________________________________________________________\n",
            " Layer (type)                Output Shape              Param #   \n",
            "=================================================================\n",
            " lstm_22 (LSTM)              (None, 1, 1000)           4024000   \n",
            "                                                                 \n",
            " lstm_23 (LSTM)              (None, 1)                 4008      \n",
            "                                                                 \n",
            "=================================================================\n",
            "Total params: 4,028,008\n",
            "Trainable params: 4,028,008\n",
            "Non-trainable params: 0\n",
            "_________________________________________________________________\n"
          ]
        }
      ]
    },
    {
      "cell_type": "code",
      "source": [
        "xxxx = x_train_np.reshape((3168,1,5))\n",
        "for i in range(5):\n",
        "  #normalize input data\n",
        "  xxxx[:,:,i] -= xxxx[:,:,i].min()\n",
        "  xxxx[:,:,i] /= xxxx[:,:,i].max()\n",
        "\n",
        "yyyy = y_train22.reshape((3168))\n",
        "ymax = yyyy.max()\n",
        "yyyy /= ymax\n",
        "yyyy = np.sqrt(yyyy)\n",
        "model.fit(xxxx, yyyy, epochs=50, batch_size=64)"
      ],
      "metadata": {
        "colab": {
          "base_uri": "https://localhost:8080/"
        },
        "id": "zUHb2VmMOKy6",
        "outputId": "80bdecde-224e-4f3e-8a6b-322a5981926c"
      },
      "execution_count": null,
      "outputs": [
        {
          "output_type": "stream",
          "name": "stdout",
          "text": [
            "Epoch 1/50\n",
            "50/50 [==============================] - 9s 66ms/step - loss: 0.0634 - mean_absolute_error: 0.2018 - mse: 0.0634\n",
            "Epoch 2/50\n",
            "50/50 [==============================] - 3s 67ms/step - loss: 0.0389 - mean_absolute_error: 0.1673 - mse: 0.0389\n",
            "Epoch 3/50\n",
            "50/50 [==============================] - 3s 66ms/step - loss: 0.0373 - mean_absolute_error: 0.1641 - mse: 0.0373\n",
            "Epoch 4/50\n",
            "50/50 [==============================] - 3s 67ms/step - loss: 0.0361 - mean_absolute_error: 0.1617 - mse: 0.0361\n",
            "Epoch 5/50\n",
            "50/50 [==============================] - 3s 66ms/step - loss: 0.0358 - mean_absolute_error: 0.1610 - mse: 0.0358\n",
            "Epoch 6/50\n",
            "50/50 [==============================] - 3s 66ms/step - loss: 0.0349 - mean_absolute_error: 0.1592 - mse: 0.0349\n",
            "Epoch 7/50\n",
            "50/50 [==============================] - 3s 66ms/step - loss: 0.0349 - mean_absolute_error: 0.1584 - mse: 0.0349\n",
            "Epoch 8/50\n",
            "50/50 [==============================] - 3s 67ms/step - loss: 0.0346 - mean_absolute_error: 0.1582 - mse: 0.0346\n",
            "Epoch 9/50\n",
            "50/50 [==============================] - 3s 67ms/step - loss: 0.0345 - mean_absolute_error: 0.1581 - mse: 0.0345\n",
            "Epoch 10/50\n",
            "50/50 [==============================] - 3s 66ms/step - loss: 0.0344 - mean_absolute_error: 0.1578 - mse: 0.0344\n",
            "Epoch 11/50\n",
            "50/50 [==============================] - 3s 66ms/step - loss: 0.0344 - mean_absolute_error: 0.1577 - mse: 0.0344\n",
            "Epoch 12/50\n",
            "50/50 [==============================] - 3s 66ms/step - loss: 0.0343 - mean_absolute_error: 0.1574 - mse: 0.0343\n",
            "Epoch 13/50\n",
            "50/50 [==============================] - 3s 66ms/step - loss: 0.0343 - mean_absolute_error: 0.1574 - mse: 0.0343\n",
            "Epoch 14/50\n",
            "50/50 [==============================] - 3s 67ms/step - loss: 0.0344 - mean_absolute_error: 0.1577 - mse: 0.0344\n",
            "Epoch 15/50\n",
            "50/50 [==============================] - 3s 67ms/step - loss: 0.0341 - mean_absolute_error: 0.1569 - mse: 0.0341\n",
            "Epoch 16/50\n",
            "50/50 [==============================] - 3s 66ms/step - loss: 0.0341 - mean_absolute_error: 0.1571 - mse: 0.0341\n",
            "Epoch 17/50\n",
            "50/50 [==============================] - 3s 66ms/step - loss: 0.0342 - mean_absolute_error: 0.1572 - mse: 0.0342\n",
            "Epoch 18/50\n",
            "50/50 [==============================] - 3s 68ms/step - loss: 0.0339 - mean_absolute_error: 0.1564 - mse: 0.0339\n",
            "Epoch 19/50\n",
            "50/50 [==============================] - 3s 67ms/step - loss: 0.0339 - mean_absolute_error: 0.1567 - mse: 0.0339\n",
            "Epoch 20/50\n",
            "50/50 [==============================] - 3s 67ms/step - loss: 0.0338 - mean_absolute_error: 0.1563 - mse: 0.0338\n",
            "Epoch 21/50\n",
            "50/50 [==============================] - 3s 67ms/step - loss: 0.0337 - mean_absolute_error: 0.1563 - mse: 0.0337\n",
            "Epoch 22/50\n",
            "50/50 [==============================] - 3s 67ms/step - loss: 0.0338 - mean_absolute_error: 0.1565 - mse: 0.0338\n",
            "Epoch 23/50\n",
            "50/50 [==============================] - 3s 67ms/step - loss: 0.0334 - mean_absolute_error: 0.1556 - mse: 0.0334\n",
            "Epoch 24/50\n",
            "50/50 [==============================] - 3s 66ms/step - loss: 0.0334 - mean_absolute_error: 0.1557 - mse: 0.0334\n",
            "Epoch 25/50\n",
            "50/50 [==============================] - 3s 66ms/step - loss: 0.0332 - mean_absolute_error: 0.1550 - mse: 0.0332\n",
            "Epoch 26/50\n",
            "50/50 [==============================] - 3s 66ms/step - loss: 0.0329 - mean_absolute_error: 0.1548 - mse: 0.0329\n",
            "Epoch 27/50\n",
            "50/50 [==============================] - 3s 66ms/step - loss: 0.0328 - mean_absolute_error: 0.1543 - mse: 0.0328\n",
            "Epoch 28/50\n",
            "50/50 [==============================] - 3s 66ms/step - loss: 0.0326 - mean_absolute_error: 0.1539 - mse: 0.0326\n",
            "Epoch 29/50\n",
            "50/50 [==============================] - 3s 66ms/step - loss: 0.0324 - mean_absolute_error: 0.1536 - mse: 0.0324\n",
            "Epoch 30/50\n",
            "50/50 [==============================] - 3s 67ms/step - loss: 0.0324 - mean_absolute_error: 0.1529 - mse: 0.0324\n",
            "Epoch 31/50\n",
            "50/50 [==============================] - 3s 67ms/step - loss: 0.0325 - mean_absolute_error: 0.1534 - mse: 0.0325\n",
            "Epoch 32/50\n",
            "50/50 [==============================] - 3s 67ms/step - loss: 0.0323 - mean_absolute_error: 0.1527 - mse: 0.0323\n",
            "Epoch 33/50\n",
            "50/50 [==============================] - 3s 67ms/step - loss: 0.0322 - mean_absolute_error: 0.1529 - mse: 0.0322\n",
            "Epoch 34/50\n",
            "50/50 [==============================] - 3s 67ms/step - loss: 0.0318 - mean_absolute_error: 0.1518 - mse: 0.0318\n",
            "Epoch 35/50\n",
            "50/50 [==============================] - 3s 67ms/step - loss: 0.0317 - mean_absolute_error: 0.1515 - mse: 0.0317\n",
            "Epoch 36/50\n",
            "50/50 [==============================] - 3s 67ms/step - loss: 0.0317 - mean_absolute_error: 0.1516 - mse: 0.0317\n",
            "Epoch 37/50\n",
            "50/50 [==============================] - 3s 66ms/step - loss: 0.0314 - mean_absolute_error: 0.1506 - mse: 0.0314\n",
            "Epoch 38/50\n",
            "50/50 [==============================] - 3s 67ms/step - loss: 0.0313 - mean_absolute_error: 0.1506 - mse: 0.0313\n",
            "Epoch 39/50\n",
            "50/50 [==============================] - 3s 67ms/step - loss: 0.0314 - mean_absolute_error: 0.1498 - mse: 0.0314\n",
            "Epoch 40/50\n",
            "50/50 [==============================] - 3s 67ms/step - loss: 0.0314 - mean_absolute_error: 0.1494 - mse: 0.0314\n",
            "Epoch 41/50\n",
            "50/50 [==============================] - 3s 67ms/step - loss: 0.0310 - mean_absolute_error: 0.1494 - mse: 0.0310\n",
            "Epoch 42/50\n",
            "50/50 [==============================] - 3s 68ms/step - loss: 0.0308 - mean_absolute_error: 0.1490 - mse: 0.0308\n",
            "Epoch 43/50\n",
            "50/50 [==============================] - 3s 67ms/step - loss: 0.0309 - mean_absolute_error: 0.1489 - mse: 0.0309\n",
            "Epoch 44/50\n",
            "50/50 [==============================] - 3s 66ms/step - loss: 0.0308 - mean_absolute_error: 0.1484 - mse: 0.0308\n",
            "Epoch 45/50\n",
            "50/50 [==============================] - 3s 67ms/step - loss: 0.0308 - mean_absolute_error: 0.1487 - mse: 0.0308\n",
            "Epoch 46/50\n",
            "50/50 [==============================] - 3s 67ms/step - loss: 0.0305 - mean_absolute_error: 0.1480 - mse: 0.0305\n",
            "Epoch 47/50\n",
            "50/50 [==============================] - 3s 67ms/step - loss: 0.0305 - mean_absolute_error: 0.1480 - mse: 0.0305\n",
            "Epoch 48/50\n",
            "50/50 [==============================] - 3s 67ms/step - loss: 0.0300 - mean_absolute_error: 0.1463 - mse: 0.0300\n",
            "Epoch 49/50\n",
            "50/50 [==============================] - 3s 67ms/step - loss: 0.0299 - mean_absolute_error: 0.1466 - mse: 0.0299\n",
            "Epoch 50/50\n",
            "50/50 [==============================] - 3s 67ms/step - loss: 0.0299 - mean_absolute_error: 0.1465 - mse: 0.0299\n"
          ]
        },
        {
          "output_type": "execute_result",
          "data": {
            "text/plain": [
              "<keras.callbacks.History at 0x7f19545010d0>"
            ]
          },
          "metadata": {},
          "execution_count": 69
        }
      ]
    },
    {
      "cell_type": "code",
      "source": [
        "plt.plot(model.history.history['mean_absolute_error'])"
      ],
      "metadata": {
        "colab": {
          "base_uri": "https://localhost:8080/",
          "height": 283
        },
        "id": "xo47im7kL6Eh",
        "outputId": "5ea01d5d-c9d7-4515-a2f8-c46de173c7b9"
      },
      "execution_count": null,
      "outputs": [
        {
          "output_type": "execute_result",
          "data": {
            "text/plain": [
              "[<matplotlib.lines.Line2D at 0x7f198de7c690>]"
            ]
          },
          "metadata": {},
          "execution_count": 72
        },
        {
          "output_type": "display_data",
          "data": {
            "image/png": "[encoded data removed]",
            "text/plain": [
              "<Figure size 432x288 with 1 Axes>"
            ]
          },
          "metadata": {
            "needs_background": "light"
          }
        }
      ]
    },
    {
      "cell_type": "code",
      "source": [
        "print(x_train.shape)\n",
        "print(y_train.shape)"
      ],
      "metadata": {
        "colab": {
          "base_uri": "https://localhost:8080/"
        },
        "id": "KL39sOmpwQwF",
        "outputId": "bb86a4cd-67e1-402f-ff98-3426d9c3f19f"
      },
      "execution_count": null,
      "outputs": [
        {
          "output_type": "stream",
          "name": "stdout",
          "text": [
            "(3168, 5)\n",
            "(3168,)\n"
          ]
        }
      ]
    },
    {
      "cell_type": "markdown",
      "source": [
        "Bangkok Data"
      ],
      "metadata": {
        "id": "oHE2tZgjvN3G"
      }
    },
    {
      "cell_type": "code",
      "source": [
        "bangkok_data = pd.read_csv('bangkok_dengue/all - all.csv', index_col = 0)"
      ],
      "metadata": {
        "id": "1Bf6kOb1vO4k"
      },
      "execution_count": null,
      "outputs": []
    },
    {
      "cell_type": "code",
      "source": [
        "bangkok_cases = bangkok_data[\"dengue_cases\"]"
      ],
      "metadata": {
        "colab": {
          "base_uri": "https://localhost:8080/",
          "height": 166
        },
        "id": "yEaYxx9pvTv5",
        "outputId": "f24bc6f7-ba26-4f69-9622-c83b4ac63d32"
      },
      "execution_count": 1,
      "outputs": [
        {
          "output_type": "error",
          "ename": "NameError",
          "evalue": "ignored",
          "traceback": [
            "\u001b[0;31m---------------------------------------------------------------------------\u001b[0m",
            "\u001b[0;31mNameError\u001b[0m                                 Traceback (most recent call last)",
            "\u001b[0;32m<ipython-input-1-f498a5ff36d6>\u001b[0m in \u001b[0;36m<module>\u001b[0;34m()\u001b[0m\n\u001b[0;32m----> 1\u001b[0;31m \u001b[0mbangkok_cases\u001b[0m \u001b[0;34m=\u001b[0m \u001b[0mbangkok_data\u001b[0m\u001b[0;34m[\u001b[0m\u001b[0;34m\"dengue_cases\"\u001b[0m\u001b[0;34m]\u001b[0m\u001b[0;34m\u001b[0m\u001b[0;34m\u001b[0m\u001b[0m\n\u001b[0m",
            "\u001b[0;31mNameError\u001b[0m: name 'bangkok_data' is not defined"
          ]
        }
      ]
    },
    {
      "cell_type": "code",
      "source": [
        "bangkok_weather = bangkok_data.drop(columns = [\"dengue_cases\"])"
      ],
      "metadata": {
        "id": "yFXqlNYmvZCb"
      },
      "execution_count": null,
      "outputs": []
    },
    {
      "cell_type": "code",
      "source": [
        "bang_x_train, bang_x_test, bang_y_train, bang_y_test = train_test_split(bangkok_weather, bangkok_cases, test_size=.1, shuffle=False)"
      ],
      "metadata": {
        "id": "RN9ksrm9vZyC"
      },
      "execution_count": null,
      "outputs": []
    },
    {
      "cell_type": "code",
      "source": [
        "bang_y_train2 = tf.expand_dims(bang_y_train, axis=1)\n",
        "bang_y_train22 = np.array(bang_y_train2)\n",
        "print(len(bang_y_train2))\n",
        "print(bang_y_train22.shape)"
      ],
      "metadata": {
        "id": "hn6uPc8_vepI"
      },
      "execution_count": null,
      "outputs": []
    },
    {
      "cell_type": "code",
      "source": [
        "from keras.metrics import FalseNegatives\n",
        "model3 = Sequential()\n",
        "\n",
        "model3.add(LSTM(units = 1000, input_shape = (1,3), return_sequences=True))\n",
        "model3.add(LSTM(units = 1))\n",
        "\n",
        "model3.summary()\n",
        "model3.compile(loss='MSE', optimizer='adam', metrics=['mean_absolute_error', 'mse'])"
      ],
      "metadata": {
        "id": "9uXrUqnTvfQW"
      },
      "execution_count": null,
      "outputs": []
    },
    {
      "cell_type": "code",
      "source": [
        "bang_x_train_np = np.array(bang_x_train)\n",
        "bang_xxxx = bang_x_train_np.reshape((162,1,3))\n",
        "for i in range(3):\n",
        "  #normalize input data\n",
        "  bang_xxxx[:,:,i] -= bang_xxxx[:,:,i].min()\n",
        "  bang_xxxx[:,:,i] /= bang_xxxx[:,:,i].max()\n",
        "\n",
        "bang_yyyy = bang_y_train22.reshape((162))\n",
        "bang_ymax = bang_yyyy.max()\n",
        "bang_yyyy = bang_yyyy.astype(float)\n",
        "bang_yyyy /= bang_ymax\n",
        "bang_yyyy = np.sqrt(bang_yyyy)\n",
        "model3.fit(bang_xxxx, bang_yyyy, epochs=50, batch_size=64)"
      ],
      "metadata": {
        "id": "g8lv91BrvkHA"
      },
      "execution_count": null,
      "outputs": []
    }
  ]
}