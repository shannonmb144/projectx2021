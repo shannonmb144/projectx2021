{
 "cells": [
  {
   "cell_type": "code",
   "execution_count": 6,
   "metadata": {},
   "outputs": [],
   "source": [
    "import pandas as pd\n",
    "from datetime import timedelta"
   ]
  },
  {
   "cell_type": "code",
   "execution_count": 5,
   "metadata": {},
   "outputs": [
    {
     "data": {
      "text/html": [
       "<div>\n",
       "<style scoped>\n",
       "    .dataframe tbody tr th:only-of-type {\n",
       "        vertical-align: middle;\n",
       "    }\n",
       "\n",
       "    .dataframe tbody tr th {\n",
       "        vertical-align: top;\n",
       "    }\n",
       "\n",
       "    .dataframe thead th {\n",
       "        text-align: right;\n",
       "    }\n",
       "</style>\n",
       "<table border=\"1\" class=\"dataframe\">\n",
       "  <thead>\n",
       "    <tr style=\"text-align: right;\">\n",
       "      <th></th>\n",
       "      <th>MAX_TEMP</th>\n",
       "      <th>MIN_TEMP</th>\n",
       "    </tr>\n",
       "    <tr>\n",
       "      <th>DATE</th>\n",
       "      <th></th>\n",
       "      <th></th>\n",
       "    </tr>\n",
       "  </thead>\n",
       "  <tbody>\n",
       "    <tr>\n",
       "      <th>2001-01-31</th>\n",
       "      <td>-1.129032</td>\n",
       "      <td>-2.419355</td>\n",
       "    </tr>\n",
       "    <tr>\n",
       "      <th>2001-02-28</th>\n",
       "      <td>-2.607143</td>\n",
       "      <td>-2.386646</td>\n",
       "    </tr>\n",
       "    <tr>\n",
       "      <th>2001-03-31</th>\n",
       "      <td>-11.451613</td>\n",
       "      <td>-5.193548</td>\n",
       "    </tr>\n",
       "    <tr>\n",
       "      <th>2001-04-30</th>\n",
       "      <td>4.266667</td>\n",
       "      <td>1.400000</td>\n",
       "    </tr>\n",
       "    <tr>\n",
       "      <th>2001-05-31</th>\n",
       "      <td>-0.193548</td>\n",
       "      <td>-0.064516</td>\n",
       "    </tr>\n",
       "  </tbody>\n",
       "</table>\n",
       "</div>"
      ],
      "text/plain": [
       "             MAX_TEMP  MIN_TEMP\n",
       "DATE                           \n",
       "2001-01-31  -1.129032 -2.419355\n",
       "2001-02-28  -2.607143 -2.386646\n",
       "2001-03-31 -11.451613 -5.193548\n",
       "2001-04-30   4.266667  1.400000\n",
       "2001-05-31  -0.193548 -0.064516"
      ]
     },
     "execution_count": 5,
     "metadata": {},
     "output_type": "execute_result"
    }
   ],
   "source": [
    "df = pd.read_pickle(\"./data/sample_data_mm.pkl\")\n",
    "df.head()"
   ]
  },
  {
   "cell_type": "code",
   "execution_count": 12,
   "metadata": {},
   "outputs": [
    {
     "name": "stdout",
     "output_type": "stream",
     "text": [
      "Test dates: 2019-01-31 00:00:00 to 2021-01-31 00:00:00\n",
      "Validation dates: 2014-12-31 00:00:00 to 2018-12-31 00:00:00\n",
      "Train dates: 2001-01-31 00:00:00 to 2014-11-30 00:00:00\n"
     ]
    }
   ],
   "source": [
    "#Splitting Data\n",
    "test_cutoff_date = df.index.max()-timedelta(31*24) #time delat uses days\n",
    "val_cutoff_date = test_cutoff_date - timedelta(31*48)\n",
    "\n",
    "df_test = df[df.index > test_cutoff_date]\n",
    "df_val = df[(df.index > val_cutoff_date) & (df.index<= test_cutoff_date)]\n",
    "df_train = df[df.index <= val_cutoff_date]\n",
    "\n",
    "print('Test dates: {} to {}'.format(df_test.index.min(), df_test.index.max()))\n",
    "print('Validation dates: {} to {}'.format(df_val.index.min(), df_val.index.max()))\n",
    "print('Train dates: {} to {}'.format(df_train.index.min(), df_train.index.max()))\n"
   ]
  },
  {
   "cell_type": "code",
   "execution_count": null,
   "metadata": {},
   "outputs": [],
   "source": []
  }
 ],
 "metadata": {
  "interpreter": {
   "hash": "5b7c22e2b33f4cf9bf7a8c748adbd19bda92a84488b3d78782ef74805b044014"
  },
  "kernelspec": {
   "display_name": "Python 3.9.4 64-bit",
   "name": "python3"
  },
  "language_info": {
   "codemirror_mode": {
    "name": "ipython",
    "version": 3
   },
   "file_extension": ".py",
   "mimetype": "text/x-python",
   "name": "python",
   "nbconvert_exporter": "python",
   "pygments_lexer": "ipython3",
   "version": "3.9.4"
  },
  "orig_nbformat": 4
 },
 "nbformat": 4,
 "nbformat_minor": 2
}
